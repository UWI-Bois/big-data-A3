{
 "cells": [
  {
   "cell_type": "markdown",
   "metadata": {},
   "source": [
    "## ID : 816000325\n",
    "## Name: Ajay Sieunarine\n",
    "## Email: ajay.sieunarine@my.uwi.edu"
   ]
  },
  {
   "cell_type": "markdown",
   "metadata": {},
   "source": [
    "# Part A"
   ]
  },
  {
   "cell_type": "code",
   "execution_count": 301,
   "metadata": {},
   "outputs": [],
   "source": [
    "from sklearn.preprocessing import LabelEncoder\n",
    "\n",
    "import pandas as pd # pandas for reading csvs and for dataframes\n",
    "from matplotlib import pyplot as plt # for plotting graphs\n",
    "import seaborn as sns # more graphs\n",
    "import numpy as np # for maths\n",
    "\n",
    "from sklearn.linear_model import LogisticRegression # for regression, predictions\n",
    "from sklearn.svm import SVC, LinearSVC # support vector machine\n",
    "from sklearn.ensemble import RandomForestClassifier # ?\n",
    "from sklearn.neighbors import KNeighborsClassifier # yes\n",
    "from sklearn.naive_bayes import GaussianNB\n",
    "from sklearn.linear_model import Perceptron # ?\n",
    "from sklearn.linear_model import SGDClassifier # ?\n",
    "from sklearn.tree import DecisionTreeClassifier # yes\n",
    "from sklearn.cluster import KMeans # yes\n",
    "from sklearn.pipeline import Pipeline # ?\n",
    "\n",
    "\n",
    "from sklearn.metrics import confusion_matrix\n",
    "from sklearn.model_selection import train_test_split \n",
    "from sklearn.metrics import accuracy_score\n",
    "from sklearn.decomposition import PCA # principle component analysis https://scikit-learn.org/stable/modules/generated/sklearn.decomposition.PCA.html \n",
    "from sklearn.preprocessing import StandardScaler # Standardize features by removing the mean and scaling to unit variance\n",
    "from sklearn.model_selection import KFold\n",
    "from sklearn.model_selection import cross_val_score # Evaluate a score by cross-validation\n",
    "\n",
    "#K-Folds cross validation iterator. \n",
    "# Provides train/test indices to split data in train test sets. Split dataset into k consecutive folds (without shuffling).\n",
    "#Each fold is then used a validation set once while the k - 1 remaining fold form the training set.\n",
    "\n",
    "#notes: cross_validation has been moved to model_selection\n",
    "\n",
    "\n",
    "%matplotlib inline\n",
    "plt.style.use('dark_background') # turn off for light theme\n",
    "plt.rcParams[\"figure.figsize\"] = (8, 4)\n",
    "plt.rcParams[\"xtick.labelsize\"] = 7\n",
    "\n",
    "import warnings\n",
    "warnings.filterwarnings(\"ignore\", category=FutureWarning)"
   ]
  },
  {
   "cell_type": "code",
   "execution_count": 302,
   "metadata": {},
   "outputs": [],
   "source": [
    "# import data\n",
    "# read training set into dataframe, csv delimited by ',', and with no header\n",
    "df = pd.read_csv('creditcard_approval.csv', sep=',', header=None) "
   ]
  },
  {
   "cell_type": "code",
   "execution_count": 303,
   "metadata": {},
   "outputs": [
    {
     "data": {
      "text/html": [
       "<div>\n",
       "<style scoped>\n",
       "    .dataframe tbody tr th:only-of-type {\n",
       "        vertical-align: middle;\n",
       "    }\n",
       "\n",
       "    .dataframe tbody tr th {\n",
       "        vertical-align: top;\n",
       "    }\n",
       "\n",
       "    .dataframe thead th {\n",
       "        text-align: right;\n",
       "    }\n",
       "</style>\n",
       "<table border=\"1\" class=\"dataframe\">\n",
       "  <thead>\n",
       "    <tr style=\"text-align: right;\">\n",
       "      <th></th>\n",
       "      <th>0</th>\n",
       "      <th>1</th>\n",
       "      <th>2</th>\n",
       "      <th>3</th>\n",
       "      <th>4</th>\n",
       "      <th>5</th>\n",
       "      <th>6</th>\n",
       "      <th>7</th>\n",
       "      <th>8</th>\n",
       "      <th>9</th>\n",
       "      <th>10</th>\n",
       "      <th>11</th>\n",
       "      <th>12</th>\n",
       "      <th>13</th>\n",
       "      <th>14</th>\n",
       "      <th>15</th>\n",
       "    </tr>\n",
       "  </thead>\n",
       "  <tbody>\n",
       "    <tr>\n",
       "      <th>0</th>\n",
       "      <td>b</td>\n",
       "      <td>30.83</td>\n",
       "      <td>0.000</td>\n",
       "      <td>u</td>\n",
       "      <td>g</td>\n",
       "      <td>w</td>\n",
       "      <td>v</td>\n",
       "      <td>1.25</td>\n",
       "      <td>t</td>\n",
       "      <td>t</td>\n",
       "      <td>1</td>\n",
       "      <td>f</td>\n",
       "      <td>g</td>\n",
       "      <td>00202</td>\n",
       "      <td>0</td>\n",
       "      <td>+</td>\n",
       "    </tr>\n",
       "    <tr>\n",
       "      <th>1</th>\n",
       "      <td>a</td>\n",
       "      <td>58.67</td>\n",
       "      <td>4.460</td>\n",
       "      <td>u</td>\n",
       "      <td>g</td>\n",
       "      <td>q</td>\n",
       "      <td>h</td>\n",
       "      <td>3.04</td>\n",
       "      <td>t</td>\n",
       "      <td>t</td>\n",
       "      <td>6</td>\n",
       "      <td>f</td>\n",
       "      <td>g</td>\n",
       "      <td>00043</td>\n",
       "      <td>560</td>\n",
       "      <td>+</td>\n",
       "    </tr>\n",
       "    <tr>\n",
       "      <th>2</th>\n",
       "      <td>a</td>\n",
       "      <td>24.50</td>\n",
       "      <td>0.500</td>\n",
       "      <td>u</td>\n",
       "      <td>g</td>\n",
       "      <td>q</td>\n",
       "      <td>h</td>\n",
       "      <td>1.50</td>\n",
       "      <td>t</td>\n",
       "      <td>f</td>\n",
       "      <td>0</td>\n",
       "      <td>f</td>\n",
       "      <td>g</td>\n",
       "      <td>00280</td>\n",
       "      <td>824</td>\n",
       "      <td>+</td>\n",
       "    </tr>\n",
       "    <tr>\n",
       "      <th>3</th>\n",
       "      <td>b</td>\n",
       "      <td>27.83</td>\n",
       "      <td>1.540</td>\n",
       "      <td>u</td>\n",
       "      <td>g</td>\n",
       "      <td>w</td>\n",
       "      <td>v</td>\n",
       "      <td>3.75</td>\n",
       "      <td>t</td>\n",
       "      <td>t</td>\n",
       "      <td>5</td>\n",
       "      <td>t</td>\n",
       "      <td>g</td>\n",
       "      <td>00100</td>\n",
       "      <td>3</td>\n",
       "      <td>+</td>\n",
       "    </tr>\n",
       "    <tr>\n",
       "      <th>4</th>\n",
       "      <td>b</td>\n",
       "      <td>20.17</td>\n",
       "      <td>5.625</td>\n",
       "      <td>u</td>\n",
       "      <td>g</td>\n",
       "      <td>w</td>\n",
       "      <td>v</td>\n",
       "      <td>1.71</td>\n",
       "      <td>t</td>\n",
       "      <td>f</td>\n",
       "      <td>0</td>\n",
       "      <td>f</td>\n",
       "      <td>s</td>\n",
       "      <td>00120</td>\n",
       "      <td>0</td>\n",
       "      <td>+</td>\n",
       "    </tr>\n",
       "  </tbody>\n",
       "</table>\n",
       "</div>"
      ],
      "text/plain": [
       "  0      1      2  3  4  5  6     7  8  9   10 11 12     13   14 15\n",
       "0  b  30.83  0.000  u  g  w  v  1.25  t  t   1  f  g  00202    0  +\n",
       "1  a  58.67  4.460  u  g  q  h  3.04  t  t   6  f  g  00043  560  +\n",
       "2  a  24.50  0.500  u  g  q  h  1.50  t  f   0  f  g  00280  824  +\n",
       "3  b  27.83  1.540  u  g  w  v  3.75  t  t   5  t  g  00100    3  +\n",
       "4  b  20.17  5.625  u  g  w  v  1.71  t  f   0  f  s  00120    0  +"
      ]
     },
     "execution_count": 303,
     "metadata": {},
     "output_type": "execute_result"
    }
   ],
   "source": [
    "df.head()"
   ]
  },
  {
   "cell_type": "code",
   "execution_count": 304,
   "metadata": {},
   "outputs": [
    {
     "data": {
      "text/plain": [
       "0      object\n",
       "1      object\n",
       "2     float64\n",
       "3      object\n",
       "4      object\n",
       "5      object\n",
       "6      object\n",
       "7     float64\n",
       "8      object\n",
       "9      object\n",
       "10      int64\n",
       "11     object\n",
       "12     object\n",
       "13     object\n",
       "14      int64\n",
       "15     object\n",
       "dtype: object"
      ]
     },
     "execution_count": 304,
     "metadata": {},
     "output_type": "execute_result"
    }
   ],
   "source": [
    "df.dtypes # show the datatype of each col"
   ]
  },
  {
   "cell_type": "code",
   "execution_count": 305,
   "metadata": {},
   "outputs": [
    {
     "data": {
      "text/plain": [
       "(690, 16)"
      ]
     },
     "execution_count": 305,
     "metadata": {},
     "output_type": "execute_result"
    }
   ],
   "source": [
    "df.shape # (number of rows, number of cols)"
   ]
  },
  {
   "cell_type": "markdown",
   "metadata": {},
   "source": [
    "## Data Cleaning\n",
    "\n",
    "Columns that need their datatype changed will be looked at more thoroughly.\n",
    "\n",
    "- The data will now be analyzed and cleaned accordingly.\n",
    "- Convert the columns that SHOULD be floats, into floats.\n",
    "- Encode the last column to be binary, where 1 => + => approved, 0 => - => rejected.\n",
    "- Encode object columns to have correpsonding integer values.\n",
    "    - Column 13 will retain its actual values and be converted to integers, and any outliers will be -1\n",
    "\n",
    "Encoding the object columns is important since PCA requires numeric data."
   ]
  },
  {
   "cell_type": "code",
   "execution_count": 306,
   "metadata": {},
   "outputs": [
    {
     "name": "stdout",
     "output_type": "stream",
     "text": [
      "['13.75' '15.17' '15.75' '15.83' '15.92' '16.00' '16.08' '16.17' '16.25'\n",
      " '16.33' '16.50' '16.92' '17.08' '17.25' '17.33' '17.42' '17.50' '17.58'\n",
      " '17.67' '17.83' '17.92' '18.00' '18.08' '18.17' '18.25' '18.33' '18.42'\n",
      " '18.50' '18.58' '18.67' '18.75' '18.83' '18.92' '19.00' '19.17' '19.33'\n",
      " '19.42' '19.50' '19.58' '19.67' '19.75' '20.00' '20.08' '20.17' '20.25'\n",
      " '20.33' '20.42' '20.50' '20.67' '20.75' '20.83' '21.00' '21.08' '21.17'\n",
      " '21.25' '21.33' '21.42' '21.50' '21.58' '21.67' '21.75' '21.83' '21.92'\n",
      " '22.00' '22.08' '22.17' '22.25' '22.33' '22.42' '22.50' '22.58' '22.67'\n",
      " '22.75' '22.83' '22.92' '23.00' '23.08' '23.17' '23.25' '23.33' '23.42'\n",
      " '23.50' '23.58' '23.75' '23.92' '24.08' '24.17' '24.33' '24.42' '24.50'\n",
      " '24.58' '24.75' '24.83' '24.92' '25.00' '25.08' '25.17' '25.25' '25.33'\n",
      " '25.42' '25.50' '25.58' '25.67' '25.75' '25.83' '25.92' '26.00' '26.08'\n",
      " '26.17' '26.25' '26.33' '26.50' '26.58' '26.67' '26.75' '26.83' '26.92'\n",
      " '27.00' '27.17' '27.25' '27.33' '27.42' '27.58' '27.67' '27.75' '27.83'\n",
      " '28.00' '28.08' '28.17' '28.25' '28.33' '28.42' '28.50' '28.58' '28.67'\n",
      " '28.75' '28.92' '29.17' '29.25' '29.42' '29.50' '29.58' '29.67' '29.75'\n",
      " '29.83' '29.92' '30.00' '30.08' '30.17' '30.25' '30.33' '30.42' '30.50'\n",
      " '30.58' '30.67' '30.75' '30.83' '31.00' '31.08' '31.25' '31.33' '31.42'\n",
      " '31.58' '31.67' '31.75' '31.83' '31.92' '32.00' '32.08' '32.17' '32.25'\n",
      " '32.33' '32.42' '32.67' '32.75' '32.83' '32.92' '33.00' '33.08' '33.17'\n",
      " '33.25' '33.50' '33.58' '33.67' '33.75' '33.92' '34.00' '34.08' '34.17'\n",
      " '34.25' '34.42' '34.50' '34.58' '34.67' '34.75' '34.83' '34.92' '35.00'\n",
      " '35.17' '35.25' '35.42' '35.58' '35.75' '36.00' '36.08' '36.17' '36.25'\n",
      " '36.33' '36.42' '36.50' '36.58' '36.67' '36.75' '37.17' '37.33' '37.42'\n",
      " '37.50' '37.58' '37.75' '38.17' '38.25' '38.33' '38.42' '38.58' '38.67'\n",
      " '38.75' '38.92' '39.00' '39.08' '39.17' '39.25' '39.33' '39.42' '39.50'\n",
      " '39.58' '39.83' '39.92' '40.00' '40.25' '40.33' '40.58' '40.83' '40.92'\n",
      " '41.00' '41.17' '41.33' '41.42' '41.50' '41.58' '41.75' '41.92' '42.00'\n",
      " '42.08' '42.17' '42.25' '42.50' '42.75' '42.83' '43.00' '43.08' '43.17'\n",
      " '43.25' '44.00' '44.17' '44.25' '44.33' '44.83' '45.00' '45.17' '45.33'\n",
      " '45.83' '46.00' '46.08' '46.67' '47.00' '47.17' '47.25' '47.33' '47.42'\n",
      " '47.67' '47.75' '47.83' '48.08' '48.17' '48.25' '48.33' '48.50' '48.58'\n",
      " '48.75' '49.00' '49.17' '49.50' '49.58' '49.83' '50.08' '50.25' '50.75'\n",
      " '51.33' '51.42' '51.58' '51.83' '51.92' '52.17' '52.33' '52.42' '52.50'\n",
      " '52.83' '53.33' '53.92' '54.33' '54.42' '54.58' '54.83' '55.75' '55.92'\n",
      " '56.00' '56.42' '56.50' '56.58' '56.75' '56.83' '57.08' '57.42' '57.58'\n",
      " '57.83' '58.33' '58.42' '58.58' '58.67' '59.50' '59.67' '60.08' '60.58'\n",
      " '60.92' '62.50' '62.75' '63.33' '64.08' '65.17' '65.42' '67.75' '68.67'\n",
      " '69.17' '69.50' '71.58' '73.42' '74.83' '76.75' '80.25' '?']\n",
      "count     690\n",
      "unique    350\n",
      "top         ?\n",
      "freq       12\n",
      "Name: 1, dtype: object\n"
     ]
    }
   ],
   "source": [
    "enc1 = LabelEncoder()\n",
    "enc1.fit(df[1])\n",
    "print(enc1.classes_)\n",
    "print(df[1].describe()) \n",
    "# based on the output, this column needs cleaning"
   ]
  },
  {
   "cell_type": "code",
   "execution_count": 307,
   "metadata": {},
   "outputs": [
    {
     "name": "stdout",
     "output_type": "stream",
     "text": [
      "[ 0.     0.04   0.08   0.085  0.125  0.165  0.17   0.205  0.21   0.25\n",
      "  0.29   0.335  0.375  0.415  0.42   0.46   0.5    0.54   0.58   0.585\n",
      "  0.625  0.665  0.67   0.705  0.71   0.75   0.79   0.83   0.835  0.875\n",
      "  0.915  0.96   1.     1.04   1.08   1.085  1.125  1.165  1.21   1.25\n",
      "  1.29   1.335  1.375  1.415  1.46   1.5    1.54   1.585  1.625  1.665\n",
      "  1.71   1.75   1.79   1.835  2.     2.04   2.085  2.125  2.165  2.21\n",
      "  2.25   2.29   2.335  2.415  2.46   2.5    2.54   2.665  2.71   2.75\n",
      "  2.835  2.875  3.     3.04   3.085  3.125  3.165  3.25   3.29   3.335\n",
      "  3.375  3.5    3.54   3.625  3.75   3.79   4.     4.04   4.085  4.125\n",
      "  4.165  4.25   4.415  4.46   4.5    4.585  4.625  4.71   4.75   4.79\n",
      "  4.915  5.     5.04   5.085  5.125  5.25   5.29   5.415  5.5    5.625\n",
      "  5.665  5.71   5.835  5.875  6.     6.04   6.165  6.21   6.5    6.625\n",
      "  6.665  6.75   7.     7.04   7.08   7.25   7.5    7.54   7.585  7.625\n",
      "  7.835  8.     8.125  8.17   8.46   8.5    8.585  8.665  9.     9.17\n",
      "  9.25   9.335  9.415  9.5    9.54   9.585  9.625  9.75   9.79   9.96\n",
      " 10.    10.04  10.085 10.125 10.21  10.25  10.29  10.335 10.415 10.5\n",
      " 10.665 10.75  10.915 11.    11.045 11.125 11.25  11.46  11.5   11.585\n",
      " 11.625 11.665 11.75  11.835 12.    12.125 12.25  12.33  12.335 12.5\n",
      " 12.54  12.625 12.75  12.835 13.    13.335 13.5   13.585 13.665 13.75\n",
      " 13.915 14.    14.5   14.585 14.79  15.    15.5   16.    16.165 16.5\n",
      " 17.75  18.125 18.5   19.    19.5   20.    21.    21.5   22.    22.29\n",
      " 25.085 25.125 25.21  26.335 28.   ]\n",
      "count    690.000000\n",
      "mean       4.758725\n",
      "std        4.978163\n",
      "min        0.000000\n",
      "25%        1.000000\n",
      "50%        2.750000\n",
      "75%        7.207500\n",
      "max       28.000000\n",
      "Name: 2, dtype: float64\n"
     ]
    }
   ],
   "source": [
    "enc2 = LabelEncoder()\n",
    "enc2.fit(df[2])\n",
    "print(enc2.classes_)\n",
    "print(df[2].describe()) \n",
    "# no cleaning needed"
   ]
  },
  {
   "cell_type": "code",
   "execution_count": 308,
   "metadata": {},
   "outputs": [
    {
     "name": "stdout",
     "output_type": "stream",
     "text": [
      "[ 0.     0.04   0.085  0.125  0.165  0.21   0.25   0.29   0.335  0.375\n",
      "  0.415  0.455  0.46   0.5    0.54   0.585  0.625  0.665  0.71   0.75\n",
      "  0.79   0.795  0.835  0.875  0.96   1.     1.04   1.085  1.165  1.21\n",
      "  1.25   1.29   1.335  1.375  1.415  1.46   1.5    1.54   1.585  1.625\n",
      "  1.665  1.71   1.75   1.835  1.875  1.96   2.     2.04   2.085  2.125\n",
      "  2.165  2.25   2.29   2.335  2.375  2.415  2.46   2.5    2.54   2.585\n",
      "  2.625  2.71   2.75   2.79   3.     3.04   3.085  3.125  3.165  3.17\n",
      "  3.25   3.335  3.5    3.75   3.96   4.     4.165  4.25   4.29   4.335\n",
      "  4.5    4.58   4.625  4.75   5.     5.04   5.085  5.125  5.165  5.25\n",
      "  5.335  5.375  5.5    5.665  5.75   6.     6.04   6.29   6.5    6.75\n",
      "  7.     7.375  7.415  7.5    7.585  7.875  7.96   8.     8.29   8.5\n",
      "  8.625  8.665  9.     9.46  10.    10.75  11.    11.5   12.5   12.75\n",
      " 13.    13.5   13.875 14.    14.415 15.    15.5   16.    17.5   18.\n",
      " 20.    28.5  ]\n",
      "count    690.000000\n",
      "mean       2.223406\n",
      "std        3.346513\n",
      "min        0.000000\n",
      "25%        0.165000\n",
      "50%        1.000000\n",
      "75%        2.625000\n",
      "max       28.500000\n",
      "Name: 7, dtype: float64\n"
     ]
    }
   ],
   "source": [
    "enc3 = LabelEncoder()\n",
    "enc3.fit(df[7])\n",
    "print(enc3.classes_)\n",
    "print(df[7].describe()) \n",
    "# no cleaning needed"
   ]
  },
  {
   "cell_type": "code",
   "execution_count": 309,
   "metadata": {},
   "outputs": [
    {
     "name": "stdout",
     "output_type": "stream",
     "text": [
      "[ 0  1  2  3  4  5  6  7  8  9 10 11 12 13 14 15 16 17 19 20 23 40 67]\n",
      "count    690.00000\n",
      "mean       2.40000\n",
      "std        4.86294\n",
      "min        0.00000\n",
      "25%        0.00000\n",
      "50%        0.00000\n",
      "75%        3.00000\n",
      "max       67.00000\n",
      "Name: 10, dtype: float64\n"
     ]
    }
   ],
   "source": [
    "enc3 = LabelEncoder()\n",
    "enc3.fit(df[10])\n",
    "print(enc3.classes_)\n",
    "print(df[10].describe()) \n",
    "# no cleaning needed"
   ]
  },
  {
   "cell_type": "code",
   "execution_count": 310,
   "metadata": {},
   "outputs": [
    {
     "name": "stdout",
     "output_type": "stream",
     "text": [
      "['00000' '00017' '00020' '00021' '00022' '00024' '00028' '00029' '00030'\n",
      " '00032' '00040' '00043' '00045' '00049' '00050' '00052' '00056' '00060'\n",
      " '00062' '00070' '00073' '00075' '00076' '00080' '00086' '00088' '00092'\n",
      " '00093' '00094' '00096' '00099' '00100' '00102' '00108' '00110' '00112'\n",
      " '00117' '00120' '00121' '00128' '00129' '00130' '00132' '00136' '00140'\n",
      " '00141' '00144' '00145' '00150' '00152' '00154' '00156' '00160' '00163'\n",
      " '00164' '00167' '00168' '00170' '00171' '00174' '00176' '00178' '00180'\n",
      " '00181' '00186' '00188' '00195' '00200' '00202' '00204' '00208' '00210'\n",
      " '00211' '00212' '00216' '00220' '00221' '00224' '00225' '00228' '00230'\n",
      " '00231' '00232' '00239' '00240' '00250' '00252' '00253' '00254' '00256'\n",
      " '00260' '00263' '00268' '00272' '00274' '00276' '00280' '00288' '00290'\n",
      " '00292' '00300' '00303' '00309' '00311' '00312' '00320' '00329' '00330'\n",
      " '00333' '00340' '00348' '00349' '00350' '00352' '00356' '00360' '00368'\n",
      " '00369' '00370' '00371' '00372' '00375' '00380' '00381' '00383' '00393'\n",
      " '00395' '00396' '00399' '00400' '00408' '00410' '00411' '00416' '00420'\n",
      " '00422' '00431' '00432' '00434' '00440' '00443' '00450' '00454' '00455'\n",
      " '00460' '00465' '00470' '00480' '00487' '00491' '00500' '00510' '00515'\n",
      " '00519' '00520' '00523' '00550' '00560' '00583' '00600' '00640' '00680'\n",
      " '00711' '00720' '00760' '00840' '00928' '00980' '01160' '02000' '?']\n",
      "count       690\n",
      "unique      171\n",
      "top       00000\n",
      "freq        132\n",
      "Name: 13, dtype: object\n",
      "[  -1    0   17   20   21   22   24   28   29   30   32   40   43   45\n",
      "   49   50   52   56   60   62   70   73   75   76   80   86   88   92\n",
      "   93   94   96   99  100  102  108  110  112  117  120  121  128  129\n",
      "  130  132  136  140  141  144  145  150  152  154  156  160  163  164\n",
      "  167  168  170  171  174  176  178  180  181  186  188  195  200  202\n",
      "  204  208  210  211  212  216  220  221  224  225  228  230  231  232\n",
      "  239  240  250  252  253  254  256  260  263  268  272  274  276  280\n",
      "  288  290  292  300  303  309  311  312  320  329  330  333  340  348\n",
      "  349  350  352  356  360  368  369  370  371  372  375  380  381  383\n",
      "  393  395  396  399  400  408  410  411  416  420  422  431  432  434\n",
      "  440  443  450  454  455  460  465  470  480  487  491  500  510  515\n",
      "  519  520  523  550  560  583  600  640  680  711  720  760  840  928\n",
      "  980 1160 2000]\n",
      "count     690.000000\n",
      "mean      180.528986\n",
      "std       173.989957\n",
      "min        -1.000000\n",
      "25%        60.000000\n",
      "50%       160.000000\n",
      "75%       272.000000\n",
      "max      2000.000000\n",
      "Name: 13, dtype: float64\n"
     ]
    }
   ],
   "source": [
    "enc3 = LabelEncoder()\n",
    "enc3.fit(df[13])\n",
    "print(enc3.classes_)\n",
    "print(df[13].describe()) \n",
    "# this col will be converted to int, so it needs to be cleaned and then converted\n",
    "\n",
    "def prune13(x):\n",
    "    if x == '?':\n",
    "        return -1\n",
    "    else:\n",
    "        return int(x)\n",
    "\n",
    "df['temp'] = df[13].apply(\n",
    "    lambda x: prune13(x)\n",
    ")\n",
    "\n",
    "df[13] = df['temp']\n",
    "del df['temp']\n",
    "\n",
    "enc3 = LabelEncoder()\n",
    "enc3.fit(df[13])\n",
    "print(enc3.classes_)\n",
    "print(df[13].describe()) "
   ]
  },
  {
   "cell_type": "code",
   "execution_count": 311,
   "metadata": {},
   "outputs": [
    {
     "name": "stdout",
     "output_type": "stream",
     "text": [
      "[     0      1      2      3      4      5      6      7      8      9\n",
      "     10     11     12     13     14     15     16     17     18     19\n",
      "     20     21     22     23     25     27     28     32     33     35\n",
      "     38     40     41     42     44     50     53     55     58     59\n",
      "     60     67     68     70     80     87     90     98     99    100\n",
      "    105    108    109    112    113    117    120    122    126    130\n",
      "    134    140    141    146    147    150    154    158    160    162\n",
      "    168    173    179    184    195    196    200    204    210    221\n",
      "    225    228    234    237    245    246    247    251    258    278\n",
      "    283    284    286    300    314    316    321    327    340    347\n",
      "    350    351    364    367    375    390    394    396    400    444\n",
      "    456    458    475    484    500    501    537    540    551    560\n",
      "    567    582    587    591    600    610    639    678    687    690\n",
      "    713    722    730    742    750    768    769    790    800    809\n",
      "    824    827    837    857    892    918    948    960    990   1000\n",
      "   1004   1058   1062   1065   1097   1110   1187   1200   1208   1210\n",
      "   1212   1236   1249   1260   1270   1300   1332   1344   1349   1391\n",
      "   1400   1430   1442   1465   1583   1602   1655   1704   1950   2000\n",
      "   2010   2028   2072   2079   2100   2184   2197   2200   2206   2279\n",
      "   2283   2300   2384   2503   2510   2690   2732   2803   2954   3000\n",
      "   3065   3257   3290   3376   3552   4000   4071   4159   4208   4500\n",
      "   4607   4700   5000   5124   5200   5298   5552   5777   5800   5860\n",
      "   6590   6700   7059   7544   8000   8851   9800  10000  10561  11177\n",
      "  11202  13212  15000  15108  18027  26726  31285  50000  51100 100000]\n",
      "count       690.000000\n",
      "mean       1017.385507\n",
      "std        5210.102598\n",
      "min           0.000000\n",
      "25%           0.000000\n",
      "50%           5.000000\n",
      "75%         395.500000\n",
      "max      100000.000000\n",
      "Name: 14, dtype: float64\n"
     ]
    }
   ],
   "source": [
    "enc3 = LabelEncoder()\n",
    "enc3.fit(df[14])\n",
    "print(enc3.classes_)\n",
    "print(df[14].describe()) \n",
    "# needs to be converted to int"
   ]
  },
  {
   "cell_type": "code",
   "execution_count": 312,
   "metadata": {},
   "outputs": [
    {
     "name": "stdout",
     "output_type": "stream",
     "text": [
      "['+' '-']\n",
      "count     690\n",
      "unique      2\n",
      "top         -\n",
      "freq      383\n",
      "Name: 15, dtype: object\n"
     ]
    }
   ],
   "source": [
    "enc3 = LabelEncoder()\n",
    "enc3.fit(df[15])\n",
    "print(enc3.classes_)\n",
    "print(df[15].describe()) \n",
    "# no cleaning needed, but can be encoded "
   ]
  },
  {
   "cell_type": "markdown",
   "metadata": {},
   "source": [
    "### Clean the columns where data type should be float"
   ]
  },
  {
   "cell_type": "code",
   "execution_count": 313,
   "metadata": {},
   "outputs": [],
   "source": [
    "def checkWord(word):\n",
    "    # check the layout of a string and return true if it is a valid float\n",
    "    # eg \"1.32\" = True, \"1.1a\" = false\n",
    "    word1 = str(word)\n",
    "    if '.' in word1:\n",
    "        # temporarily replace the . to determine if the string only contains digits\n",
    "        if word1.replace('.', '1').isdigit(): \n",
    "            return True\n",
    "        \n",
    "###################################################################################################\n",
    "        \n",
    "def checkCol(col):\n",
    "    # determine if the column should be checked to be converted to float\n",
    "    \n",
    "    # if the column is not a float, check to see if it should be a float\n",
    "    if col.dtype == 'float' and col.dtype == 'int' and col.dtype == 'int64':\n",
    "        return False\n",
    "    \n",
    "    sList = col.values.tolist()\n",
    "    \n",
    "    # check each entry in a non-float column and return true if a dot is found\n",
    "    for el in sList: # each element in the col will be a string\n",
    "        if checkWord(el):\n",
    "            return True\n",
    "\n",
    "    return False\n",
    "\n",
    "###################################################################################################\n",
    "\n",
    "def pruneWord(x):\n",
    "    # utility function for lambda\n",
    "    # converts the string in the column to float and return if true, else return 0.0\n",
    "    if checkWord(x):\n",
    "        return float(x)\n",
    "    else:\n",
    "        return 0.0\n",
    "\n",
    "###################################################################################################\n",
    "    \n",
    "# change cols to float\n",
    "columns = df.columns\n",
    "for column in columns:\n",
    "    if checkCol(df[column]):\n",
    "        # clean columns of any invalid entries by setting the invalid value to 0.0\n",
    "        df['temp'] = df[column].apply(\n",
    "            lambda x: pruneWord(x)\n",
    "        )\n",
    "        df[column] = df['temp']\n",
    "        del df['temp']\n",
    "        \n",
    "\n",
    "def encodeTruth(x):\n",
    "    if x == '+':\n",
    "        return 1\n",
    "    else:\n",
    "        return 0\n",
    "        \n",
    "# encode last column\n",
    "df['temp'] = df[15].apply(\n",
    "    lambda x: encodeTruth(x)\n",
    ")\n",
    "df[15] = df['temp']\n",
    "del df['temp']"
   ]
  },
  {
   "cell_type": "code",
   "execution_count": 314,
   "metadata": {},
   "outputs": [
    {
     "data": {
      "text/plain": [
       "0      object\n",
       "1     float64\n",
       "2     float64\n",
       "3      object\n",
       "4      object\n",
       "5      object\n",
       "6      object\n",
       "7     float64\n",
       "8      object\n",
       "9      object\n",
       "10      int64\n",
       "11     object\n",
       "12     object\n",
       "13      int64\n",
       "14      int64\n",
       "15      int64\n",
       "dtype: object"
      ]
     },
     "execution_count": 314,
     "metadata": {},
     "output_type": "execute_result"
    }
   ],
   "source": [
    "df.dtypes"
   ]
  },
  {
   "cell_type": "code",
   "execution_count": 315,
   "metadata": {},
   "outputs": [
    {
     "data": {
      "text/html": [
       "<div>\n",
       "<style scoped>\n",
       "    .dataframe tbody tr th:only-of-type {\n",
       "        vertical-align: middle;\n",
       "    }\n",
       "\n",
       "    .dataframe tbody tr th {\n",
       "        vertical-align: top;\n",
       "    }\n",
       "\n",
       "    .dataframe thead th {\n",
       "        text-align: right;\n",
       "    }\n",
       "</style>\n",
       "<table border=\"1\" class=\"dataframe\">\n",
       "  <thead>\n",
       "    <tr style=\"text-align: right;\">\n",
       "      <th></th>\n",
       "      <th>0</th>\n",
       "      <th>1</th>\n",
       "      <th>2</th>\n",
       "      <th>3</th>\n",
       "      <th>4</th>\n",
       "      <th>5</th>\n",
       "      <th>6</th>\n",
       "      <th>7</th>\n",
       "      <th>8</th>\n",
       "      <th>9</th>\n",
       "      <th>10</th>\n",
       "      <th>11</th>\n",
       "      <th>12</th>\n",
       "      <th>13</th>\n",
       "      <th>14</th>\n",
       "      <th>15</th>\n",
       "    </tr>\n",
       "  </thead>\n",
       "  <tbody>\n",
       "    <tr>\n",
       "      <th>0</th>\n",
       "      <td>b</td>\n",
       "      <td>30.83</td>\n",
       "      <td>0.000</td>\n",
       "      <td>u</td>\n",
       "      <td>g</td>\n",
       "      <td>w</td>\n",
       "      <td>v</td>\n",
       "      <td>1.25</td>\n",
       "      <td>t</td>\n",
       "      <td>t</td>\n",
       "      <td>1</td>\n",
       "      <td>f</td>\n",
       "      <td>g</td>\n",
       "      <td>202</td>\n",
       "      <td>0</td>\n",
       "      <td>1</td>\n",
       "    </tr>\n",
       "    <tr>\n",
       "      <th>1</th>\n",
       "      <td>a</td>\n",
       "      <td>58.67</td>\n",
       "      <td>4.460</td>\n",
       "      <td>u</td>\n",
       "      <td>g</td>\n",
       "      <td>q</td>\n",
       "      <td>h</td>\n",
       "      <td>3.04</td>\n",
       "      <td>t</td>\n",
       "      <td>t</td>\n",
       "      <td>6</td>\n",
       "      <td>f</td>\n",
       "      <td>g</td>\n",
       "      <td>43</td>\n",
       "      <td>560</td>\n",
       "      <td>1</td>\n",
       "    </tr>\n",
       "    <tr>\n",
       "      <th>2</th>\n",
       "      <td>a</td>\n",
       "      <td>24.50</td>\n",
       "      <td>0.500</td>\n",
       "      <td>u</td>\n",
       "      <td>g</td>\n",
       "      <td>q</td>\n",
       "      <td>h</td>\n",
       "      <td>1.50</td>\n",
       "      <td>t</td>\n",
       "      <td>f</td>\n",
       "      <td>0</td>\n",
       "      <td>f</td>\n",
       "      <td>g</td>\n",
       "      <td>280</td>\n",
       "      <td>824</td>\n",
       "      <td>1</td>\n",
       "    </tr>\n",
       "    <tr>\n",
       "      <th>3</th>\n",
       "      <td>b</td>\n",
       "      <td>27.83</td>\n",
       "      <td>1.540</td>\n",
       "      <td>u</td>\n",
       "      <td>g</td>\n",
       "      <td>w</td>\n",
       "      <td>v</td>\n",
       "      <td>3.75</td>\n",
       "      <td>t</td>\n",
       "      <td>t</td>\n",
       "      <td>5</td>\n",
       "      <td>t</td>\n",
       "      <td>g</td>\n",
       "      <td>100</td>\n",
       "      <td>3</td>\n",
       "      <td>1</td>\n",
       "    </tr>\n",
       "    <tr>\n",
       "      <th>4</th>\n",
       "      <td>b</td>\n",
       "      <td>20.17</td>\n",
       "      <td>5.625</td>\n",
       "      <td>u</td>\n",
       "      <td>g</td>\n",
       "      <td>w</td>\n",
       "      <td>v</td>\n",
       "      <td>1.71</td>\n",
       "      <td>t</td>\n",
       "      <td>f</td>\n",
       "      <td>0</td>\n",
       "      <td>f</td>\n",
       "      <td>s</td>\n",
       "      <td>120</td>\n",
       "      <td>0</td>\n",
       "      <td>1</td>\n",
       "    </tr>\n",
       "  </tbody>\n",
       "</table>\n",
       "</div>"
      ],
      "text/plain": [
       "  0      1      2  3  4  5  6     7  8  9   10 11 12   13   14  15\n",
       "0  b  30.83  0.000  u  g  w  v  1.25  t  t   1  f  g  202    0   1\n",
       "1  a  58.67  4.460  u  g  q  h  3.04  t  t   6  f  g   43  560   1\n",
       "2  a  24.50  0.500  u  g  q  h  1.50  t  f   0  f  g  280  824   1\n",
       "3  b  27.83  1.540  u  g  w  v  3.75  t  t   5  t  g  100    3   1\n",
       "4  b  20.17  5.625  u  g  w  v  1.71  t  f   0  f  s  120    0   1"
      ]
     },
     "execution_count": 315,
     "metadata": {},
     "output_type": "execute_result"
    }
   ],
   "source": [
    "df.head()"
   ]
  },
  {
   "cell_type": "markdown",
   "metadata": {},
   "source": [
    "The int and float columns are clean and accounted for, now to process the categorical columns."
   ]
  },
  {
   "cell_type": "code",
   "execution_count": 316,
   "metadata": {},
   "outputs": [
    {
     "data": {
      "text/html": [
       "<div>\n",
       "<style scoped>\n",
       "    .dataframe tbody tr th:only-of-type {\n",
       "        vertical-align: middle;\n",
       "    }\n",
       "\n",
       "    .dataframe tbody tr th {\n",
       "        vertical-align: top;\n",
       "    }\n",
       "\n",
       "    .dataframe thead th {\n",
       "        text-align: right;\n",
       "    }\n",
       "</style>\n",
       "<table border=\"1\" class=\"dataframe\">\n",
       "  <thead>\n",
       "    <tr style=\"text-align: right;\">\n",
       "      <th></th>\n",
       "      <th>0</th>\n",
       "      <th>3</th>\n",
       "      <th>4</th>\n",
       "      <th>5</th>\n",
       "      <th>6</th>\n",
       "      <th>8</th>\n",
       "      <th>9</th>\n",
       "      <th>11</th>\n",
       "      <th>12</th>\n",
       "    </tr>\n",
       "  </thead>\n",
       "  <tbody>\n",
       "    <tr>\n",
       "      <th>count</th>\n",
       "      <td>690</td>\n",
       "      <td>690</td>\n",
       "      <td>690</td>\n",
       "      <td>690</td>\n",
       "      <td>690</td>\n",
       "      <td>690</td>\n",
       "      <td>690</td>\n",
       "      <td>690</td>\n",
       "      <td>690</td>\n",
       "    </tr>\n",
       "    <tr>\n",
       "      <th>unique</th>\n",
       "      <td>3</td>\n",
       "      <td>4</td>\n",
       "      <td>4</td>\n",
       "      <td>15</td>\n",
       "      <td>10</td>\n",
       "      <td>2</td>\n",
       "      <td>2</td>\n",
       "      <td>2</td>\n",
       "      <td>3</td>\n",
       "    </tr>\n",
       "    <tr>\n",
       "      <th>top</th>\n",
       "      <td>b</td>\n",
       "      <td>u</td>\n",
       "      <td>g</td>\n",
       "      <td>c</td>\n",
       "      <td>v</td>\n",
       "      <td>t</td>\n",
       "      <td>f</td>\n",
       "      <td>f</td>\n",
       "      <td>g</td>\n",
       "    </tr>\n",
       "    <tr>\n",
       "      <th>freq</th>\n",
       "      <td>468</td>\n",
       "      <td>519</td>\n",
       "      <td>519</td>\n",
       "      <td>137</td>\n",
       "      <td>399</td>\n",
       "      <td>361</td>\n",
       "      <td>395</td>\n",
       "      <td>374</td>\n",
       "      <td>625</td>\n",
       "    </tr>\n",
       "  </tbody>\n",
       "</table>\n",
       "</div>"
      ],
      "text/plain": [
       "         0    3    4    5    6    8    9    11   12\n",
       "count   690  690  690  690  690  690  690  690  690\n",
       "unique    3    4    4   15   10    2    2    2    3\n",
       "top       b    u    g    c    v    t    f    f    g\n",
       "freq    468  519  519  137  399  361  395  374  625"
      ]
     },
     "execution_count": 316,
     "metadata": {},
     "output_type": "execute_result"
    }
   ],
   "source": [
    "categorical = df.dtypes[df.dtypes == \"object\"].index # grab index referencing string columns\n",
    "df[categorical].describe()"
   ]
  },
  {
   "cell_type": "code",
   "execution_count": 317,
   "metadata": {},
   "outputs": [
    {
     "name": "stdout",
     "output_type": "stream",
     "text": [
      "['?' 'a' 'b']\n",
      "['?' 'l' 'u' 'y']\n",
      "['?' 'g' 'gg' 'p']\n",
      "['?' 'aa' 'c' 'cc' 'd' 'e' 'ff' 'i' 'j' 'k' 'm' 'q' 'r' 'w' 'x']\n",
      "['?' 'bb' 'dd' 'ff' 'h' 'j' 'n' 'o' 'v' 'z']\n",
      "['f' 't']\n",
      "['f' 't']\n",
      "['f' 't']\n",
      "['g' 'p' 's']\n"
     ]
    }
   ],
   "source": [
    "cat_cols = df[categorical].columns\n",
    "\n",
    "def printColClasses(index):\n",
    "    for col in index:\n",
    "        enc3 = LabelEncoder()\n",
    "        enc3.fit(df[col])\n",
    "        print(enc3.classes_)\n",
    "\n",
    "printColClasses(cat_cols)\n",
    "    \n",
    "# since it is sorted, the ? will always retain the same value for each col"
   ]
  },
  {
   "cell_type": "code",
   "execution_count": 318,
   "metadata": {},
   "outputs": [
    {
     "name": "stdout",
     "output_type": "stream",
     "text": [
      "[0 1 2]\n",
      "[0 1 2 3]\n",
      "[0 1 2 3]\n",
      "[ 0  1  2  3  4  5  6  7  8  9 10 11 12 13 14]\n",
      "[0 1 2 3 4 5 6 7 8 9]\n",
      "[0 1]\n",
      "[0 1]\n",
      "[0 1]\n",
      "[0 1 2]\n"
     ]
    }
   ],
   "source": [
    "for c in cat_cols:\n",
    "    df[c] = df[c].astype('category')\n",
    "    df[c] = df[c].cat.codes\n",
    "\n",
    "printColClasses(cat_cols)"
   ]
  },
  {
   "cell_type": "code",
   "execution_count": 319,
   "metadata": {},
   "outputs": [
    {
     "name": "stdout",
     "output_type": "stream",
     "text": [
      "   0      1      2   3   4   5   6     7   8   9   10  11  12   13   14  15\n",
      "0   2  30.83  0.000   2   1  13   8  1.25   1   1   1   0   0  202    0   1\n",
      "1   1  58.67  4.460   2   1  11   4  3.04   1   1   6   0   0   43  560   1\n",
      "2   1  24.50  0.500   2   1  11   4  1.50   1   0   0   0   0  280  824   1\n",
      "3   2  27.83  1.540   2   1  13   8  3.75   1   1   5   1   0  100    3   1\n",
      "4   2  20.17  5.625   2   1  13   8  1.71   1   0   0   0   2  120    0   1\n",
      "-------------------------------------------\n",
      "0        int8\n",
      "1     float64\n",
      "2     float64\n",
      "3        int8\n",
      "4        int8\n",
      "5        int8\n",
      "6        int8\n",
      "7     float64\n",
      "8        int8\n",
      "9        int8\n",
      "10      int64\n",
      "11       int8\n",
      "12       int8\n",
      "13      int64\n",
      "14      int64\n",
      "15      int64\n",
      "dtype: object\n"
     ]
    }
   ],
   "source": [
    "print(df.head())\n",
    "print('-------------------------------------------')\n",
    "print(df.dtypes)"
   ]
  },
  {
   "cell_type": "markdown",
   "metadata": {},
   "source": [
    "The data is now clean and will be split into training and testing sets."
   ]
  },
  {
   "cell_type": "code",
   "execution_count": 320,
   "metadata": {},
   "outputs": [],
   "source": [
    "# split the cleaned dataframe into training and testing sets\n",
    "df_cpy = df.copy()\n",
    "# drop the last column since it is used as the target varaible and does not contribute to the training/testing data\n",
    "X_df = df_cpy.drop(15, axis=1)\n",
    "# print(X_df)\n",
    "\n",
    "# choose target variable y\n",
    "y = df[15]\n",
    "# print(y)\n",
    "\n",
    "# make training and testing sets\n",
    "X_train, X_test, Y_train, Y_test = train_test_split(X_df, y, test_size=0.3) # 30% of the data will be used for testing\n",
    "# print(Y_train)"
   ]
  },
  {
   "cell_type": "markdown",
   "metadata": {},
   "source": [
    "The data will now be standardized and transformed using PCA with 95% variance"
   ]
  },
  {
   "cell_type": "code",
   "execution_count": 321,
   "metadata": {},
   "outputs": [],
   "source": [
    "scaler = StandardScaler() # remove all mean values and scale to unit variance\n",
    "scaler.fit(X_train) \n",
    "X_train = scaler.transform(X_train)\n",
    "\n",
    "pca = PCA(0.95) # principle component analysis\n",
    "pca.fit(X_train)\n",
    "pca.n_components_\n",
    "\n",
    "X_train = pca.transform(X_train)\n",
    "X_train = pd.DataFrame(X_train)"
   ]
  },
  {
   "cell_type": "code",
   "execution_count": 322,
   "metadata": {},
   "outputs": [],
   "source": [
    "scaler = StandardScaler()\n",
    "scaler.fit(X_test)\n",
    "X_test = scaler.transform(X_test)\n",
    "\n",
    "pca = PCA(0.95)\n",
    "pca.fit(X_test)\n",
    "pca.n_components_\n",
    "\n",
    "X_test = pca.transform(X_test)\n",
    "X_test = pd.DataFrame(X_test)"
   ]
  },
  {
   "cell_type": "code",
   "execution_count": 323,
   "metadata": {},
   "outputs": [
    {
     "name": "stdout",
     "output_type": "stream",
     "text": [
      "-------------------------------------------\n",
      "LogisticRegression 76.33\n",
      "-------------------------------------------\n",
      "SVC 73.91\n",
      "-------------------------------------------\n",
      "KNeighborsClassifier 77.29\n",
      "-------------------------------------------\n",
      "GaussianNB 78.26\n",
      "-------------------------------------------\n",
      "Perceptron 62.32\n",
      "-------------------------------------------\n",
      "LinearSVC 74.4\n",
      "-------------------------------------------\n",
      "SGDClassifier 68.6\n",
      "-------------------------------------------\n",
      "DecisionTreeClassifier 72.95\n",
      "-------------------------------------------\n",
      "RandomForestClassifier 79.23\n"
     ]
    },
    {
     "name": "stderr",
     "output_type": "stream",
     "text": [
      "C:\\Users\\idisc\\anaconda3\\lib\\site-packages\\sklearn\\svm\\_base.py:947: ConvergenceWarning: Liblinear failed to converge, increase the number of iterations.\n",
      "  \"the number of iterations.\", ConvergenceWarning)\n"
     ]
    }
   ],
   "source": [
    "clfs = []\n",
    "clfs.append(LogisticRegression())\n",
    "clfs.append(SVC())\n",
    "clfs.append(KNeighborsClassifier(n_neighbors=3))\n",
    "clfs.append(GaussianNB())\n",
    "clfs.append(Perceptron())\n",
    "clfs.append(LinearSVC())\n",
    "clfs.append(SGDClassifier())\n",
    "clfs.append(DecisionTreeClassifier())\n",
    "clfs.append(RandomForestClassifier(n_estimators=100))\n",
    "clfs\n",
    "\n",
    "names = []\n",
    "scores = []\n",
    "for classifier in clfs:\n",
    "    classifier.fit(X_train, Y_train)\n",
    "    Y_pred = classifier.predict(X_test)\n",
    "    acc = round(accuracy_score(Y_test, Y_pred) * 100, 2)\n",
    "    name = str(classifier).split('(')[0] # remove everything after the first brackets \n",
    "    print('-------------------------------------------')\n",
    "    print(name, acc)\n",
    "    names.append(name)\n",
    "    scores.append(acc)"
   ]
  },
  {
   "cell_type": "markdown",
   "metadata": {},
   "source": [
    "The chart below shows that the data was successfully standardized, since there is vissibly a low variance."
   ]
  },
  {
   "cell_type": "code",
   "execution_count": 324,
   "metadata": {
    "scrolled": false
   },
   "outputs": [
    {
     "data": {
      "text/plain": [
       "(40, 100)"
      ]
     },
     "execution_count": 324,
     "metadata": {},
     "output_type": "execute_result"
    },
    {
     "data": {
      "image/png": "[encoded data removed]",
      "text/plain": [
       "<Figure size 1080x720 with 1 Axes>"
      ]
     },
     "metadata": {},
     "output_type": "display_data"
    }
   ],
   "source": [
    "plt.figure(figsize=(15,10))\n",
    "plt.bar(names, scores)\n",
    "plt.xticks(rotation=-45)\n",
    "plt.ylim(40, 100)"
   ]
  },
  {
   "cell_type": "markdown",
   "metadata": {},
   "source": []
  },
  {
   "cell_type": "markdown",
   "metadata": {},
   "source": [
    "# Part B"
   ]
  },
  {
   "cell_type": "markdown",
   "metadata": {},
   "source": [
    "## Section 1\n",
    "Binary Classification using:\n",
    "    - Random Forest Classifier\n",
    "    - KNN Classifier\n",
    "        - using cross-validation to determine the number of neighbors\n",
    "    - Gaussian Naive Bayes: a good binary classifier\n",
    "    - Support Vector Machine (SVM): good for categorical data\n",
    "    - Perceptron: good accuracy and predictions for this type of dataset"
   ]
  },
  {
   "cell_type": "code",
   "execution_count": 325,
   "metadata": {},
   "outputs": [],
   "source": [
    "# split the cleaned dataframe into training and testing sets\n",
    "df_cpy = df.copy()\n",
    "# drop the last column since it is used as the target varaible and does not contribute to the training/testing data\n",
    "X_df = df_cpy.drop(15, axis=1)\n",
    "# print(X_df)\n",
    "\n",
    "# choose target variable y\n",
    "y = df_cpy[15]\n",
    "# print(y)\n",
    "\n",
    "# make training and testing sets\n",
    "X_train, X_test, Y_train, Y_test = train_test_split(X_df, y, test_size=0.3) # 30% of the data will be used for testing\n",
    "# print(Y_train)"
   ]
  },
  {
   "cell_type": "code",
   "execution_count": 326,
   "metadata": {},
   "outputs": [
    {
     "data": {
      "text/plain": [
       "86.96"
      ]
     },
     "execution_count": 326,
     "metadata": {},
     "output_type": "execute_result"
    }
   ],
   "source": [
    "# Random Forest\n",
    "\n",
    "random_forest = RandomForestClassifier(n_estimators = 100)\n",
    "random_forest.fit(X_train, Y_train)\n",
    "Y_pred = random_forest.predict(X_test)\n",
    "acc_random_forest = round(accuracy_score(Y_test, Y_pred) * 100, 2)\n",
    "acc_random_forest"
   ]
  },
  {
   "cell_type": "code",
   "execution_count": 327,
   "metadata": {},
   "outputs": [
    {
     "name": "stdout",
     "output_type": "stream",
     "text": [
      "<filter object at 0x000001733F4A0B48>\n",
      "5\n"
     ]
    },
    {
     "data": {
      "text/plain": [
       "86.96"
      ]
     },
     "execution_count": 327,
     "metadata": {},
     "output_type": "execute_result"
    }
   ],
   "source": [
    "# determine k using cross validation\n",
    "# creating odd list of K for KNN\n",
    "neighbors = filter(\n",
    "    lambda x:\n",
    "        x % 2 != 0, list(range(1, 50)) #\n",
    ")\n",
    "print(neighbors)\n",
    "\n",
    "# empty list to hold cv scores\n",
    "cv_scores = {}\n",
    "\n",
    "# 10-fol cross validation\n",
    "for k in neighbors:\n",
    "    knn = KNeighborsClassifier(n_neighbors=k)\n",
    "    scores = cross_val_score(knn, X_train, Y_train, cv=10, scoring='accuracy')\n",
    "    cv_scores[k] = scores.mean()\n",
    "    \n",
    "bess_k = max(cv_scores, key=lambda k: cv_scores[k])\n",
    "print(bess_k)\n",
    "\n",
    "# instantiate learning model (k = 3)\n",
    "knn = KNeighborsClassifier(n_neighbors=bess_k)\n",
    "# fit the model\n",
    "knn.fit(X_train, Y_train)\n",
    "#predict teh response\n",
    "pred = knn.predict(X_test)\n",
    "# evaluate accuracy\n",
    "acc_knn = round(accuracy_score(Y_test, Y_pred) * 100, 2)\n",
    "acc_knn"
   ]
  },
  {
   "cell_type": "code",
   "execution_count": 328,
   "metadata": {},
   "outputs": [
    {
     "data": {
      "text/plain": [
       "79.71"
      ]
     },
     "execution_count": 328,
     "metadata": {},
     "output_type": "execute_result"
    }
   ],
   "source": [
    "# Gaussian Naive Bayes\n",
    "\n",
    "gaussian = GaussianNB()\n",
    "gaussian.fit(X_train, Y_train)\n",
    "Y_pred = gaussian.predict(X_test)\n",
    "acc_gaussian = round(accuracy_score(Y_test, Y_pred) * 100, 2)\n",
    "acc_gaussian"
   ]
  },
  {
   "cell_type": "code",
   "execution_count": 329,
   "metadata": {},
   "outputs": [
    {
     "data": {
      "text/plain": [
       "64.73"
      ]
     },
     "execution_count": 329,
     "metadata": {},
     "output_type": "execute_result"
    }
   ],
   "source": [
    "# Support Vector Machines\n",
    "\n",
    "svc = SVC()\n",
    "svc.fit(X_train, Y_train)\n",
    "Y_pred = svc.predict(X_test)\n",
    "acc_svc = round(accuracy_score(Y_test, Y_pred) * 100, 2)\n",
    "acc_svc"
   ]
  },
  {
   "cell_type": "code",
   "execution_count": 330,
   "metadata": {},
   "outputs": [
    {
     "data": {
      "text/plain": [
       "62.32"
      ]
     },
     "execution_count": 330,
     "metadata": {},
     "output_type": "execute_result"
    }
   ],
   "source": [
    "# Perceptron\n",
    "\n",
    "perceptron = Perceptron()\n",
    "perceptron.fit(X_train, Y_train)\n",
    "Y_pred = perceptron.predict(X_test)\n",
    "acc_perceptron = round(accuracy_score(Y_test, Y_pred) * 100, 2)\n",
    "acc_perceptron"
   ]
  },
  {
   "cell_type": "code",
   "execution_count": 331,
   "metadata": {},
   "outputs": [
    {
     "data": {
      "text/html": [
       "<div>\n",
       "<style scoped>\n",
       "    .dataframe tbody tr th:only-of-type {\n",
       "        vertical-align: middle;\n",
       "    }\n",
       "\n",
       "    .dataframe tbody tr th {\n",
       "        vertical-align: top;\n",
       "    }\n",
       "\n",
       "    .dataframe thead th {\n",
       "        text-align: right;\n",
       "    }\n",
       "</style>\n",
       "<table border=\"1\" class=\"dataframe\">\n",
       "  <thead>\n",
       "    <tr style=\"text-align: right;\">\n",
       "      <th></th>\n",
       "      <th>Model</th>\n",
       "      <th>Score</th>\n",
       "    </tr>\n",
       "  </thead>\n",
       "  <tbody>\n",
       "    <tr>\n",
       "      <th>1</th>\n",
       "      <td>KNN</td>\n",
       "      <td>86.96</td>\n",
       "    </tr>\n",
       "    <tr>\n",
       "      <th>3</th>\n",
       "      <td>Random Forest</td>\n",
       "      <td>86.96</td>\n",
       "    </tr>\n",
       "    <tr>\n",
       "      <th>2</th>\n",
       "      <td>Gaussian Naive Bayes</td>\n",
       "      <td>79.71</td>\n",
       "    </tr>\n",
       "    <tr>\n",
       "      <th>0</th>\n",
       "      <td>Support Vector Machines</td>\n",
       "      <td>64.73</td>\n",
       "    </tr>\n",
       "    <tr>\n",
       "      <th>4</th>\n",
       "      <td>Perceptron</td>\n",
       "      <td>62.32</td>\n",
       "    </tr>\n",
       "  </tbody>\n",
       "</table>\n",
       "</div>"
      ],
      "text/plain": [
       "                     Model  Score\n",
       "1                      KNN  86.96\n",
       "3            Random Forest  86.96\n",
       "2     Gaussian Naive Bayes  79.71\n",
       "0  Support Vector Machines  64.73\n",
       "4               Perceptron  62.32"
      ]
     },
     "execution_count": 331,
     "metadata": {},
     "output_type": "execute_result"
    }
   ],
   "source": [
    "models = pd.DataFrame({\n",
    "    'Model': [\n",
    "        'Support Vector Machines', 'KNN', 'Gaussian Naive Bayes',\n",
    "        'Random Forest', 'Perceptron'\n",
    "        \n",
    "    ],\n",
    "    'Score': [\n",
    "        acc_svc, acc_knn, acc_gaussian,\n",
    "        acc_random_forest, acc_perceptron\n",
    "    ]\n",
    "})\n",
    "\n",
    "models.sort_values(by='Score', ascending=False)"
   ]
  },
  {
   "cell_type": "code",
   "execution_count": 332,
   "metadata": {},
   "outputs": [
    {
     "data": {
      "text/plain": [
       "<matplotlib.axes._subplots.AxesSubplot at 0x1733f39d988>"
      ]
     },
     "execution_count": 332,
     "metadata": {},
     "output_type": "execute_result"
    },
    {
     "data": {
      "image/png": "[encoded data removed]",
      "text/plain": [
       "<Figure size 576x288 with 1 Axes>"
      ]
     },
     "metadata": {},
     "output_type": "display_data"
    }
   ],
   "source": [
    "sns.barplot(x='Score', y='Model', data=models)"
   ]
  },
  {
   "cell_type": "markdown",
   "metadata": {},
   "source": [
    "From the above plot, all of the classifiers have over 50% accuracy, with KNN and Random Forest having the best score."
   ]
  }
 ],
 "metadata": {
  "kernelspec": {
   "display_name": "Python 3",
   "language": "python",
   "name": "python3"
  },
  "language_info": {
   "codemirror_mode": {
    "name": "ipython",
    "version": 3
   },
   "file_extension": ".py",
   "mimetype": "text/x-python",
   "name": "python",
   "nbconvert_exporter": "python",
   "pygments_lexer": "ipython3",
   "version": "3.7.6"
  }
 },
 "nbformat": 4,
 "nbformat_minor": 4
}
